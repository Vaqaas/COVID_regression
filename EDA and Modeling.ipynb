{
 "cells": [
  {
   "cell_type": "code",
   "execution_count": 621,
   "metadata": {},
   "outputs": [],
   "source": [
    "import pandas as pd\n",
    "import numpy as np\n",
    "import statsmodels.api as sm\n",
    "import statsmodels.formula.api as smf\n",
    "import patsy\n",
    "\n",
    "import seaborn as sns\n",
    "import matplotlib.pyplot as plt\n",
    "from sklearn.utils import shuffle\n",
    "from sklearn.linear_model import LinearRegression, lars_path\n",
    "from sklearn.linear_model import RidgeCV\n",
    "from sklearn.model_selection import train_test_split\n",
    "from sklearn.model_selection import KFold\n",
    "from sklearn.model_selection import cross_val_score\n",
    "from sklearn.model_selection import train_test_split\n",
    "from sklearn.linear_model import Ridge, Lasso\n",
    "from sklearn.preprocessing import StandardScaler, PolynomialFeatures\n",
    "\n",
    "import seaborn as sns"
   ]
  },
  {
   "cell_type": "code",
   "execution_count": 622,
   "metadata": {},
   "outputs": [
    {
     "data": {
      "text/html": [
       "<div>\n",
       "<style scoped>\n",
       "    .dataframe tbody tr th:only-of-type {\n",
       "        vertical-align: middle;\n",
       "    }\n",
       "\n",
       "    .dataframe tbody tr th {\n",
       "        vertical-align: top;\n",
       "    }\n",
       "\n",
       "    .dataframe thead th {\n",
       "        text-align: right;\n",
       "    }\n",
       "</style>\n",
       "<table border=\"1\" class=\"dataframe\">\n",
       "  <thead>\n",
       "    <tr style=\"text-align: right;\">\n",
       "      <th></th>\n",
       "      <th>Unnamed: 0</th>\n",
       "      <th>Total Cases</th>\n",
       "      <th>Total Cases per 100k</th>\n",
       "      <th>Total Deaths</th>\n",
       "      <th>Total Deaths per 100k</th>\n",
       "      <th>Fully Vaccinated</th>\n",
       "      <th>Daily Case Avg</th>\n",
       "      <th>Daily Case 14-Day change %</th>\n",
       "      <th>Hosp. Daily per 100k</th>\n",
       "      <th>Hosp. Daily change %</th>\n",
       "      <th>Deaths Daily Avg.</th>\n",
       "      <th>Deaths Daily per 100k</th>\n",
       "    </tr>\n",
       "  </thead>\n",
       "  <tbody>\n",
       "    <tr>\n",
       "      <th>count</th>\n",
       "      <td>3215.000000</td>\n",
       "      <td>3.215000e+03</td>\n",
       "      <td>3215.000000</td>\n",
       "      <td>3215.000000</td>\n",
       "      <td>3215.000000</td>\n",
       "      <td>3215.000000</td>\n",
       "      <td>3215.000000</td>\n",
       "      <td>3007.000000</td>\n",
       "      <td>3215.000000</td>\n",
       "      <td>3215.000000</td>\n",
       "      <td>1153.000000</td>\n",
       "      <td>3215.000000</td>\n",
       "    </tr>\n",
       "    <tr>\n",
       "      <th>mean</th>\n",
       "      <td>1607.000000</td>\n",
       "      <td>1.018039e+04</td>\n",
       "      <td>9918.477760</td>\n",
       "      <td>184.760281</td>\n",
       "      <td>201.966667</td>\n",
       "      <td>25.674961</td>\n",
       "      <td>11.296734</td>\n",
       "      <td>11.417359</td>\n",
       "      <td>-19.407465</td>\n",
       "      <td>0.194432</td>\n",
       "      <td>0.544501</td>\n",
       "      <td>29.201669</td>\n",
       "    </tr>\n",
       "    <tr>\n",
       "      <th>std</th>\n",
       "      <td>928.234884</td>\n",
       "      <td>3.919525e+04</td>\n",
       "      <td>3072.901355</td>\n",
       "      <td>865.703826</td>\n",
       "      <td>110.040287</td>\n",
       "      <td>12.736809</td>\n",
       "      <td>36.733864</td>\n",
       "      <td>9.824055</td>\n",
       "      <td>63.987233</td>\n",
       "      <td>0.888653</td>\n",
       "      <td>0.761756</td>\n",
       "      <td>7.662983</td>\n",
       "    </tr>\n",
       "    <tr>\n",
       "      <th>min</th>\n",
       "      <td>0.000000</td>\n",
       "      <td>1.000000e+00</td>\n",
       "      <td>423.000000</td>\n",
       "      <td>0.000000</td>\n",
       "      <td>3.000000</td>\n",
       "      <td>0.000000</td>\n",
       "      <td>0.000000</td>\n",
       "      <td>0.000000</td>\n",
       "      <td>-100.000000</td>\n",
       "      <td>0.000000</td>\n",
       "      <td>0.020000</td>\n",
       "      <td>1.000000</td>\n",
       "    </tr>\n",
       "    <tr>\n",
       "      <th>25%</th>\n",
       "      <td>803.500000</td>\n",
       "      <td>1.050000e+03</td>\n",
       "      <td>8167.500000</td>\n",
       "      <td>20.000000</td>\n",
       "      <td>125.000000</td>\n",
       "      <td>21.000000</td>\n",
       "      <td>1.000000</td>\n",
       "      <td>6.000000</td>\n",
       "      <td>-46.000000</td>\n",
       "      <td>0.000000</td>\n",
       "      <td>0.170000</td>\n",
       "      <td>25.000000</td>\n",
       "    </tr>\n",
       "    <tr>\n",
       "      <th>50%</th>\n",
       "      <td>1607.000000</td>\n",
       "      <td>2.514000e+03</td>\n",
       "      <td>9968.000000</td>\n",
       "      <td>51.000000</td>\n",
       "      <td>191.000000</td>\n",
       "      <td>27.000000</td>\n",
       "      <td>2.000000</td>\n",
       "      <td>9.000000</td>\n",
       "      <td>-16.000000</td>\n",
       "      <td>0.000000</td>\n",
       "      <td>0.330000</td>\n",
       "      <td>27.000000</td>\n",
       "    </tr>\n",
       "    <tr>\n",
       "      <th>75%</th>\n",
       "      <td>2410.500000</td>\n",
       "      <td>6.413000e+03</td>\n",
       "      <td>11656.000000</td>\n",
       "      <td>126.000000</td>\n",
       "      <td>256.000000</td>\n",
       "      <td>34.000000</td>\n",
       "      <td>8.000000</td>\n",
       "      <td>14.000000</td>\n",
       "      <td>0.000000</td>\n",
       "      <td>0.100000</td>\n",
       "      <td>0.610000</td>\n",
       "      <td>34.000000</td>\n",
       "    </tr>\n",
       "    <tr>\n",
       "      <th>max</th>\n",
       "      <td>3214.000000</td>\n",
       "      <td>1.237120e+06</td>\n",
       "      <td>37095.000000</td>\n",
       "      <td>32966.000000</td>\n",
       "      <td>866.000000</td>\n",
       "      <td>65.000000</td>\n",
       "      <td>862.000000</td>\n",
       "      <td>122.000000</td>\n",
       "      <td>847.000000</td>\n",
       "      <td>29.400000</td>\n",
       "      <td>12.700000</td>\n",
       "      <td>65.000000</td>\n",
       "    </tr>\n",
       "  </tbody>\n",
       "</table>\n",
       "</div>"
      ],
      "text/plain": [
       "        Unnamed: 0   Total Cases  Total Cases per 100k  Total Deaths  \\\n",
       "count  3215.000000  3.215000e+03           3215.000000   3215.000000   \n",
       "mean   1607.000000  1.018039e+04           9918.477760    184.760281   \n",
       "std     928.234884  3.919525e+04           3072.901355    865.703826   \n",
       "min       0.000000  1.000000e+00            423.000000      0.000000   \n",
       "25%     803.500000  1.050000e+03           8167.500000     20.000000   \n",
       "50%    1607.000000  2.514000e+03           9968.000000     51.000000   \n",
       "75%    2410.500000  6.413000e+03          11656.000000    126.000000   \n",
       "max    3214.000000  1.237120e+06          37095.000000  32966.000000   \n",
       "\n",
       "       Total Deaths per 100k  Fully Vaccinated  Daily Case Avg  \\\n",
       "count            3215.000000       3215.000000     3215.000000   \n",
       "mean              201.966667         25.674961       11.296734   \n",
       "std               110.040287         12.736809       36.733864   \n",
       "min                 3.000000          0.000000        0.000000   \n",
       "25%               125.000000         21.000000        1.000000   \n",
       "50%               191.000000         27.000000        2.000000   \n",
       "75%               256.000000         34.000000        8.000000   \n",
       "max               866.000000         65.000000      862.000000   \n",
       "\n",
       "       Daily Case 14-Day change %  Hosp. Daily per 100k  Hosp. Daily change %  \\\n",
       "count                 3007.000000           3215.000000           3215.000000   \n",
       "mean                    11.417359            -19.407465              0.194432   \n",
       "std                      9.824055             63.987233              0.888653   \n",
       "min                      0.000000           -100.000000              0.000000   \n",
       "25%                      6.000000            -46.000000              0.000000   \n",
       "50%                      9.000000            -16.000000              0.000000   \n",
       "75%                     14.000000              0.000000              0.100000   \n",
       "max                    122.000000            847.000000             29.400000   \n",
       "\n",
       "       Deaths Daily Avg.  Deaths Daily per 100k  \n",
       "count        1153.000000            3215.000000  \n",
       "mean            0.544501              29.201669  \n",
       "std             0.761756               7.662983  \n",
       "min             0.020000               1.000000  \n",
       "25%             0.170000              25.000000  \n",
       "50%             0.330000              27.000000  \n",
       "75%             0.610000              34.000000  \n",
       "max            12.700000              65.000000  "
      ]
     },
     "execution_count": 622,
     "metadata": {},
     "output_type": "execute_result"
    }
   ],
   "source": [
    "df = pd.read_csv('data/workable_df.csv')\n",
    "df.describe()"
   ]
  },
  {
   "cell_type": "code",
   "execution_count": 623,
   "metadata": {},
   "outputs": [
    {
     "name": "stdout",
     "output_type": "stream",
     "text": [
      "<class 'pandas.core.frame.DataFrame'>\n",
      "RangeIndex: 3215 entries, 0 to 3214\n",
      "Data columns (total 14 columns):\n",
      " #   Column                      Non-Null Count  Dtype  \n",
      "---  ------                      --------------  -----  \n",
      " 0   Unnamed: 0                  3215 non-null   int64  \n",
      " 1   County                      3215 non-null   object \n",
      " 2   Total Cases                 3215 non-null   float64\n",
      " 3   Total Cases per 100k        3215 non-null   float64\n",
      " 4   Total Deaths                3215 non-null   float64\n",
      " 5   Total Deaths per 100k       3215 non-null   float64\n",
      " 6   Fully Vaccinated            3215 non-null   float64\n",
      " 7   Daily Case Avg              3215 non-null   float64\n",
      " 8   Daily Case 14-Day change %  3007 non-null   float64\n",
      " 9   Hospitalized Daily Avg      2353 non-null   object \n",
      " 10  Hosp. Daily per 100k        3215 non-null   float64\n",
      " 11  Hosp. Daily change %        3215 non-null   float64\n",
      " 12  Deaths Daily Avg.           1153 non-null   float64\n",
      " 13  Deaths Daily per 100k       3215 non-null   float64\n",
      "dtypes: float64(11), int64(1), object(2)\n",
      "memory usage: 351.8+ KB\n"
     ]
    }
   ],
   "source": [
    "df.info()"
   ]
  },
  {
   "cell_type": "code",
   "execution_count": 624,
   "metadata": {},
   "outputs": [
    {
     "data": {
      "text/plain": [
       "0.18"
      ]
     },
     "execution_count": 624,
     "metadata": {},
     "output_type": "execute_result"
    }
   ],
   "source": [
    "(df['Deaths Daily Avg.'].sample(n=1,random_state=np.random.randint(1,100,1)).values)[0]"
   ]
  },
  {
   "cell_type": "code",
   "execution_count": 625,
   "metadata": {},
   "outputs": [],
   "source": [
    "df = df.drop(['Unnamed: 0'], axis=1)\n",
    "df = df.drop(['Hospitalized Daily Avg'],axis=1)\n",
    "df = shuffle(df)\n",
    "df = df.dropna()\n",
    "#df = df.loc[df['Hosp. Daily per 100k']!=-100]\n",
    "#df = df.loc[df['Hosp. Daily per 100k']>-1]\n",
    "df = df.loc[df['Daily Case Avg']<200]"
   ]
  },
  {
   "cell_type": "code",
   "execution_count": 626,
   "metadata": {},
   "outputs": [],
   "source": [
    "X = df.drop(['Daily Case Avg'], axis=1)\n",
    "y = df['Daily Case Avg']\n",
    "#df['Deaths Daily Avg.'].sample(n=1, random_state=0)\n",
    "#X = X.drop(columns=X.columns[5:8])"
   ]
  },
  {
   "cell_type": "code",
   "execution_count": 627,
   "metadata": {},
   "outputs": [
    {
     "data": {
      "text/plain": [
       "count    1125.000000\n",
       "mean       20.588444\n",
       "std        29.794319\n",
       "min         1.000000\n",
       "25%         3.000000\n",
       "50%         8.000000\n",
       "75%        24.000000\n",
       "max       198.000000\n",
       "Name: Daily Case Avg, dtype: float64"
      ]
     },
     "execution_count": 627,
     "metadata": {},
     "output_type": "execute_result"
    },
    {
     "data": {
      "image/png": "[encoded data removed]",
      "text/plain": [
       "<Figure size 432x288 with 1 Axes>"
      ]
     },
     "metadata": {
      "needs_background": "light"
     },
     "output_type": "display_data"
    }
   ],
   "source": [
    "plt.hist(y, range=(-1, 100), bins=100)\n",
    "y.describe()"
   ]
  },
  {
   "cell_type": "code",
   "execution_count": null,
   "metadata": {},
   "outputs": [],
   "source": []
  },
  {
   "cell_type": "code",
   "execution_count": 628,
   "metadata": {},
   "outputs": [
    {
     "data": {
      "text/html": [
       "<div>\n",
       "<style scoped>\n",
       "    .dataframe tbody tr th:only-of-type {\n",
       "        vertical-align: middle;\n",
       "    }\n",
       "\n",
       "    .dataframe tbody tr th {\n",
       "        vertical-align: top;\n",
       "    }\n",
       "\n",
       "    .dataframe thead th {\n",
       "        text-align: right;\n",
       "    }\n",
       "</style>\n",
       "<table border=\"1\" class=\"dataframe\">\n",
       "  <thead>\n",
       "    <tr style=\"text-align: right;\">\n",
       "      <th></th>\n",
       "      <th>Total Cases</th>\n",
       "      <th>Total Cases per 100k</th>\n",
       "      <th>Total Deaths</th>\n",
       "      <th>Total Deaths per 100k</th>\n",
       "      <th>Fully Vaccinated</th>\n",
       "      <th>Daily Case Avg</th>\n",
       "      <th>Daily Case 14-Day change %</th>\n",
       "      <th>Hosp. Daily per 100k</th>\n",
       "      <th>Hosp. Daily change %</th>\n",
       "      <th>Deaths Daily Avg.</th>\n",
       "      <th>Deaths Daily per 100k</th>\n",
       "    </tr>\n",
       "  </thead>\n",
       "  <tbody>\n",
       "    <tr>\n",
       "      <th>Total Cases</th>\n",
       "      <td>1.000000</td>\n",
       "      <td>0.015440</td>\n",
       "      <td>0.946104</td>\n",
       "      <td>-0.010853</td>\n",
       "      <td>0.133474</td>\n",
       "      <td>0.072396</td>\n",
       "      <td>0.000893</td>\n",
       "      <td>-0.021119</td>\n",
       "      <td>0.053398</td>\n",
       "      <td>-0.068035</td>\n",
       "      <td>0.090939</td>\n",
       "    </tr>\n",
       "    <tr>\n",
       "      <th>Total Cases per 100k</th>\n",
       "      <td>0.015440</td>\n",
       "      <td>1.000000</td>\n",
       "      <td>0.013649</td>\n",
       "      <td>0.486578</td>\n",
       "      <td>-0.027558</td>\n",
       "      <td>0.020886</td>\n",
       "      <td>0.409740</td>\n",
       "      <td>0.061407</td>\n",
       "      <td>-0.032255</td>\n",
       "      <td>0.041421</td>\n",
       "      <td>-0.167399</td>\n",
       "    </tr>\n",
       "    <tr>\n",
       "      <th>Total Deaths</th>\n",
       "      <td>0.946104</td>\n",
       "      <td>0.013649</td>\n",
       "      <td>1.000000</td>\n",
       "      <td>0.049391</td>\n",
       "      <td>0.117345</td>\n",
       "      <td>0.055285</td>\n",
       "      <td>0.009812</td>\n",
       "      <td>-0.017992</td>\n",
       "      <td>0.040002</td>\n",
       "      <td>-0.055657</td>\n",
       "      <td>0.075550</td>\n",
       "    </tr>\n",
       "    <tr>\n",
       "      <th>Total Deaths per 100k</th>\n",
       "      <td>-0.010853</td>\n",
       "      <td>0.486578</td>\n",
       "      <td>0.049391</td>\n",
       "      <td>1.000000</td>\n",
       "      <td>-0.105386</td>\n",
       "      <td>-0.027669</td>\n",
       "      <td>0.097588</td>\n",
       "      <td>0.076103</td>\n",
       "      <td>-0.026527</td>\n",
       "      <td>0.014938</td>\n",
       "      <td>-0.156506</td>\n",
       "    </tr>\n",
       "    <tr>\n",
       "      <th>Fully Vaccinated</th>\n",
       "      <td>0.133474</td>\n",
       "      <td>-0.027558</td>\n",
       "      <td>0.117345</td>\n",
       "      <td>-0.105386</td>\n",
       "      <td>1.000000</td>\n",
       "      <td>0.123311</td>\n",
       "      <td>0.063832</td>\n",
       "      <td>-0.078131</td>\n",
       "      <td>0.087504</td>\n",
       "      <td>-0.061331</td>\n",
       "      <td>0.407581</td>\n",
       "    </tr>\n",
       "    <tr>\n",
       "      <th>Daily Case Avg</th>\n",
       "      <td>0.072396</td>\n",
       "      <td>0.020886</td>\n",
       "      <td>0.055285</td>\n",
       "      <td>-0.027669</td>\n",
       "      <td>0.123311</td>\n",
       "      <td>1.000000</td>\n",
       "      <td>0.141421</td>\n",
       "      <td>-0.029022</td>\n",
       "      <td>0.574141</td>\n",
       "      <td>-0.252102</td>\n",
       "      <td>0.299626</td>\n",
       "    </tr>\n",
       "    <tr>\n",
       "      <th>Daily Case 14-Day change %</th>\n",
       "      <td>0.000893</td>\n",
       "      <td>0.409740</td>\n",
       "      <td>0.009812</td>\n",
       "      <td>0.097588</td>\n",
       "      <td>0.063832</td>\n",
       "      <td>0.141421</td>\n",
       "      <td>1.000000</td>\n",
       "      <td>0.011407</td>\n",
       "      <td>0.010339</td>\n",
       "      <td>0.193625</td>\n",
       "      <td>0.007818</td>\n",
       "    </tr>\n",
       "    <tr>\n",
       "      <th>Hosp. Daily per 100k</th>\n",
       "      <td>-0.021119</td>\n",
       "      <td>0.061407</td>\n",
       "      <td>-0.017992</td>\n",
       "      <td>0.076103</td>\n",
       "      <td>-0.078131</td>\n",
       "      <td>-0.029022</td>\n",
       "      <td>0.011407</td>\n",
       "      <td>1.000000</td>\n",
       "      <td>-0.034801</td>\n",
       "      <td>0.028636</td>\n",
       "      <td>-0.062681</td>\n",
       "    </tr>\n",
       "    <tr>\n",
       "      <th>Hosp. Daily change %</th>\n",
       "      <td>0.053398</td>\n",
       "      <td>-0.032255</td>\n",
       "      <td>0.040002</td>\n",
       "      <td>-0.026527</td>\n",
       "      <td>0.087504</td>\n",
       "      <td>0.574141</td>\n",
       "      <td>0.010339</td>\n",
       "      <td>-0.034801</td>\n",
       "      <td>1.000000</td>\n",
       "      <td>-0.011348</td>\n",
       "      <td>0.203908</td>\n",
       "    </tr>\n",
       "    <tr>\n",
       "      <th>Deaths Daily Avg.</th>\n",
       "      <td>-0.068035</td>\n",
       "      <td>0.041421</td>\n",
       "      <td>-0.055657</td>\n",
       "      <td>0.014938</td>\n",
       "      <td>-0.061331</td>\n",
       "      <td>-0.252102</td>\n",
       "      <td>0.193625</td>\n",
       "      <td>0.028636</td>\n",
       "      <td>-0.011348</td>\n",
       "      <td>1.000000</td>\n",
       "      <td>-0.160717</td>\n",
       "    </tr>\n",
       "    <tr>\n",
       "      <th>Deaths Daily per 100k</th>\n",
       "      <td>0.090939</td>\n",
       "      <td>-0.167399</td>\n",
       "      <td>0.075550</td>\n",
       "      <td>-0.156506</td>\n",
       "      <td>0.407581</td>\n",
       "      <td>0.299626</td>\n",
       "      <td>0.007818</td>\n",
       "      <td>-0.062681</td>\n",
       "      <td>0.203908</td>\n",
       "      <td>-0.160717</td>\n",
       "      <td>1.000000</td>\n",
       "    </tr>\n",
       "  </tbody>\n",
       "</table>\n",
       "</div>"
      ],
      "text/plain": [
       "                            Total Cases  Total Cases per 100k  Total Deaths  \\\n",
       "Total Cases                    1.000000              0.015440      0.946104   \n",
       "Total Cases per 100k           0.015440              1.000000      0.013649   \n",
       "Total Deaths                   0.946104              0.013649      1.000000   \n",
       "Total Deaths per 100k         -0.010853              0.486578      0.049391   \n",
       "Fully Vaccinated               0.133474             -0.027558      0.117345   \n",
       "Daily Case Avg                 0.072396              0.020886      0.055285   \n",
       "Daily Case 14-Day change %     0.000893              0.409740      0.009812   \n",
       "Hosp. Daily per 100k          -0.021119              0.061407     -0.017992   \n",
       "Hosp. Daily change %           0.053398             -0.032255      0.040002   \n",
       "Deaths Daily Avg.             -0.068035              0.041421     -0.055657   \n",
       "Deaths Daily per 100k          0.090939             -0.167399      0.075550   \n",
       "\n",
       "                            Total Deaths per 100k  Fully Vaccinated  \\\n",
       "Total Cases                             -0.010853          0.133474   \n",
       "Total Cases per 100k                     0.486578         -0.027558   \n",
       "Total Deaths                             0.049391          0.117345   \n",
       "Total Deaths per 100k                    1.000000         -0.105386   \n",
       "Fully Vaccinated                        -0.105386          1.000000   \n",
       "Daily Case Avg                          -0.027669          0.123311   \n",
       "Daily Case 14-Day change %               0.097588          0.063832   \n",
       "Hosp. Daily per 100k                     0.076103         -0.078131   \n",
       "Hosp. Daily change %                    -0.026527          0.087504   \n",
       "Deaths Daily Avg.                        0.014938         -0.061331   \n",
       "Deaths Daily per 100k                   -0.156506          0.407581   \n",
       "\n",
       "                            Daily Case Avg  Daily Case 14-Day change %  \\\n",
       "Total Cases                       0.072396                    0.000893   \n",
       "Total Cases per 100k              0.020886                    0.409740   \n",
       "Total Deaths                      0.055285                    0.009812   \n",
       "Total Deaths per 100k            -0.027669                    0.097588   \n",
       "Fully Vaccinated                  0.123311                    0.063832   \n",
       "Daily Case Avg                    1.000000                    0.141421   \n",
       "Daily Case 14-Day change %        0.141421                    1.000000   \n",
       "Hosp. Daily per 100k             -0.029022                    0.011407   \n",
       "Hosp. Daily change %              0.574141                    0.010339   \n",
       "Deaths Daily Avg.                -0.252102                    0.193625   \n",
       "Deaths Daily per 100k             0.299626                    0.007818   \n",
       "\n",
       "                            Hosp. Daily per 100k  Hosp. Daily change %  \\\n",
       "Total Cases                            -0.021119              0.053398   \n",
       "Total Cases per 100k                    0.061407             -0.032255   \n",
       "Total Deaths                           -0.017992              0.040002   \n",
       "Total Deaths per 100k                   0.076103             -0.026527   \n",
       "Fully Vaccinated                       -0.078131              0.087504   \n",
       "Daily Case Avg                         -0.029022              0.574141   \n",
       "Daily Case 14-Day change %              0.011407              0.010339   \n",
       "Hosp. Daily per 100k                    1.000000             -0.034801   \n",
       "Hosp. Daily change %                   -0.034801              1.000000   \n",
       "Deaths Daily Avg.                       0.028636             -0.011348   \n",
       "Deaths Daily per 100k                  -0.062681              0.203908   \n",
       "\n",
       "                            Deaths Daily Avg.  Deaths Daily per 100k  \n",
       "Total Cases                         -0.068035               0.090939  \n",
       "Total Cases per 100k                 0.041421              -0.167399  \n",
       "Total Deaths                        -0.055657               0.075550  \n",
       "Total Deaths per 100k                0.014938              -0.156506  \n",
       "Fully Vaccinated                    -0.061331               0.407581  \n",
       "Daily Case Avg                      -0.252102               0.299626  \n",
       "Daily Case 14-Day change %           0.193625               0.007818  \n",
       "Hosp. Daily per 100k                 0.028636              -0.062681  \n",
       "Hosp. Daily change %                -0.011348               0.203908  \n",
       "Deaths Daily Avg.                    1.000000              -0.160717  \n",
       "Deaths Daily per 100k               -0.160717               1.000000  "
      ]
     },
     "execution_count": 628,
     "metadata": {},
     "output_type": "execute_result"
    }
   ],
   "source": [
    "X = X.dropna()\n",
    "y = y.dropna()\n",
    "COUNTY_NAMES = X['County']\n",
    "X = X.drop('County',axis=1)\n",
    "X, test_X, y, test_y = train_test_split(X, y, test_size = .2)\n",
    "df.corr()"
   ]
  },
  {
   "cell_type": "code",
   "execution_count": 629,
   "metadata": {},
   "outputs": [
    {
     "data": {
      "text/plain": [
       "LinearRegression()"
      ]
     },
     "execution_count": 629,
     "metadata": {},
     "output_type": "execute_result"
    }
   ],
   "source": [
    "lr = LinearRegression()\n",
    "lr.fit(X, y)"
   ]
  },
  {
   "cell_type": "code",
   "execution_count": 630,
   "metadata": {},
   "outputs": [
    {
     "data": {
      "text/plain": [
       "Text(0.5, 0, 'Predicted Case Change')"
      ]
     },
     "execution_count": 630,
     "metadata": {},
     "output_type": "execute_result"
    },
    {
     "data": {
      "image/png": "[encoded data removed]",
      "text/plain": [
       "<Figure size 432x288 with 1 Axes>"
      ]
     },
     "metadata": {
      "needs_background": "light"
     },
     "output_type": "display_data"
    }
   ],
   "source": [
    "predictions = lr.predict(test_X)\n",
    "plt.scatter(predictions, test_y, alpha=.5)\n",
    "plt.ylabel('14-day Case Change')\n",
    "plt.xlabel('Predicted Case Change')"
   ]
  },
  {
   "cell_type": "code",
   "execution_count": 631,
   "metadata": {},
   "outputs": [
    {
     "data": {
      "text/plain": [
       "0.4352638356534907"
      ]
     },
     "execution_count": 631,
     "metadata": {},
     "output_type": "execute_result"
    }
   ],
   "source": [
    "lr.score(X, y)"
   ]
  },
  {
   "cell_type": "code",
   "execution_count": 632,
   "metadata": {},
   "outputs": [
    {
     "data": {
      "text/plain": [
       "0.47728447232567894"
      ]
     },
     "execution_count": 632,
     "metadata": {},
     "output_type": "execute_result"
    }
   ],
   "source": [
    "lr.score(test_X, test_y)"
   ]
  },
  {
   "cell_type": "code",
   "execution_count": 633,
   "metadata": {},
   "outputs": [
    {
     "data": {
      "text/html": [
       "<table class=\"simpletable\">\n",
       "<caption>OLS Regression Results</caption>\n",
       "<tr>\n",
       "  <th>Dep. Variable:</th>     <td>Daily Case Avg</td>  <th>  R-squared (uncentered):</th>      <td>   0.612</td> \n",
       "</tr>\n",
       "<tr>\n",
       "  <th>Model:</th>                   <td>OLS</td>       <th>  Adj. R-squared (uncentered):</th> <td>   0.607</td> \n",
       "</tr>\n",
       "<tr>\n",
       "  <th>Method:</th>             <td>Least Squares</td>  <th>  F-statistic:       </th>          <td>   140.3</td> \n",
       "</tr>\n",
       "<tr>\n",
       "  <th>Date:</th>             <td>Fri, 14 May 2021</td> <th>  Prob (F-statistic):</th>          <td>3.08e-175</td>\n",
       "</tr>\n",
       "<tr>\n",
       "  <th>Time:</th>                 <td>02:41:53</td>     <th>  Log-Likelihood:    </th>          <td> -4092.3</td> \n",
       "</tr>\n",
       "<tr>\n",
       "  <th>No. Observations:</th>      <td>   900</td>      <th>  AIC:               </th>          <td>   8205.</td> \n",
       "</tr>\n",
       "<tr>\n",
       "  <th>Df Residuals:</th>          <td>   890</td>      <th>  BIC:               </th>          <td>   8253.</td> \n",
       "</tr>\n",
       "<tr>\n",
       "  <th>Df Model:</th>              <td>    10</td>      <th>                     </th>              <td> </td>    \n",
       "</tr>\n",
       "<tr>\n",
       "  <th>Covariance Type:</th>      <td>nonrobust</td>    <th>                     </th>              <td> </td>    \n",
       "</tr>\n",
       "</table>\n",
       "<table class=\"simpletable\">\n",
       "<tr>\n",
       "               <td></td>                 <th>coef</th>     <th>std err</th>      <th>t</th>      <th>P>|t|</th>  <th>[0.025</th>    <th>0.975]</th>  \n",
       "</tr>\n",
       "<tr>\n",
       "  <th>Total Cases</th>                <td> 5.374e-05</td> <td> 3.99e-05</td> <td>    1.347</td> <td> 0.178</td> <td>-2.45e-05</td> <td>    0.000</td>\n",
       "</tr>\n",
       "<tr>\n",
       "  <th>Total Cases per 100k</th>       <td>   -0.0005</td> <td>    0.000</td> <td>   -1.595</td> <td> 0.111</td> <td>   -0.001</td> <td>    0.000</td>\n",
       "</tr>\n",
       "<tr>\n",
       "  <th>Total Deaths</th>               <td>   -0.0019</td> <td>    0.002</td> <td>   -1.134</td> <td> 0.257</td> <td>   -0.005</td> <td>    0.001</td>\n",
       "</tr>\n",
       "<tr>\n",
       "  <th>Total Deaths per 100k</th>      <td>    0.0051</td> <td>    0.009</td> <td>    0.591</td> <td> 0.555</td> <td>   -0.012</td> <td>    0.022</td>\n",
       "</tr>\n",
       "<tr>\n",
       "  <th>Fully Vaccinated</th>           <td>   -0.0795</td> <td>    0.065</td> <td>   -1.215</td> <td> 0.225</td> <td>   -0.208</td> <td>    0.049</td>\n",
       "</tr>\n",
       "<tr>\n",
       "  <th>Daily Case 14-Day change %</th> <td>    0.7396</td> <td>    0.104</td> <td>    7.141</td> <td> 0.000</td> <td>    0.536</td> <td>    0.943</td>\n",
       "</tr>\n",
       "<tr>\n",
       "  <th>Hosp. Daily per 100k</th>       <td>    0.0032</td> <td>    0.016</td> <td>    0.200</td> <td> 0.842</td> <td>   -0.029</td> <td>    0.035</td>\n",
       "</tr>\n",
       "<tr>\n",
       "  <th>Hosp. Daily change %</th>       <td>   19.5203</td> <td>    0.951</td> <td>   20.524</td> <td> 0.000</td> <td>   17.654</td> <td>   21.387</td>\n",
       "</tr>\n",
       "<tr>\n",
       "  <th>Deaths Daily Avg.</th>          <td>  -11.0440</td> <td>    1.083</td> <td>  -10.194</td> <td> 0.000</td> <td>  -13.170</td> <td>   -8.918</td>\n",
       "</tr>\n",
       "<tr>\n",
       "  <th>Deaths Daily per 100k</th>      <td>    0.4788</td> <td>    0.083</td> <td>    5.749</td> <td> 0.000</td> <td>    0.315</td> <td>    0.642</td>\n",
       "</tr>\n",
       "</table>\n",
       "<table class=\"simpletable\">\n",
       "<tr>\n",
       "  <th>Omnibus:</th>       <td>371.575</td> <th>  Durbin-Watson:     </th> <td>   2.029</td> \n",
       "</tr>\n",
       "<tr>\n",
       "  <th>Prob(Omnibus):</th> <td> 0.000</td>  <th>  Jarque-Bera (JB):  </th> <td>27019.963</td>\n",
       "</tr>\n",
       "<tr>\n",
       "  <th>Skew:</th>          <td> 0.987</td>  <th>  Prob(JB):          </th> <td>    0.00</td> \n",
       "</tr>\n",
       "<tr>\n",
       "  <th>Kurtosis:</th>      <td>29.770</td>  <th>  Cond. No.          </th> <td>9.01e+04</td> \n",
       "</tr>\n",
       "</table><br/><br/>Notes:<br/>[1] R² is computed without centering (uncentered) since the model does not contain a constant.<br/>[2] Standard Errors assume that the covariance matrix of the errors is correctly specified.<br/>[3] The condition number is large, 9.01e+04. This might indicate that there are<br/>strong multicollinearity or other numerical problems."
      ],
      "text/plain": [
       "<class 'statsmodels.iolib.summary.Summary'>\n",
       "\"\"\"\n",
       "                                 OLS Regression Results                                \n",
       "=======================================================================================\n",
       "Dep. Variable:         Daily Case Avg   R-squared (uncentered):                   0.612\n",
       "Model:                            OLS   Adj. R-squared (uncentered):              0.607\n",
       "Method:                 Least Squares   F-statistic:                              140.3\n",
       "Date:                Fri, 14 May 2021   Prob (F-statistic):                   3.08e-175\n",
       "Time:                        02:41:53   Log-Likelihood:                         -4092.3\n",
       "No. Observations:                 900   AIC:                                      8205.\n",
       "Df Residuals:                     890   BIC:                                      8253.\n",
       "Df Model:                          10                                                  \n",
       "Covariance Type:            nonrobust                                                  \n",
       "==============================================================================================\n",
       "                                 coef    std err          t      P>|t|      [0.025      0.975]\n",
       "----------------------------------------------------------------------------------------------\n",
       "Total Cases                 5.374e-05   3.99e-05      1.347      0.178   -2.45e-05       0.000\n",
       "Total Cases per 100k          -0.0005      0.000     -1.595      0.111      -0.001       0.000\n",
       "Total Deaths                  -0.0019      0.002     -1.134      0.257      -0.005       0.001\n",
       "Total Deaths per 100k          0.0051      0.009      0.591      0.555      -0.012       0.022\n",
       "Fully Vaccinated              -0.0795      0.065     -1.215      0.225      -0.208       0.049\n",
       "Daily Case 14-Day change %     0.7396      0.104      7.141      0.000       0.536       0.943\n",
       "Hosp. Daily per 100k           0.0032      0.016      0.200      0.842      -0.029       0.035\n",
       "Hosp. Daily change %          19.5203      0.951     20.524      0.000      17.654      21.387\n",
       "Deaths Daily Avg.            -11.0440      1.083    -10.194      0.000     -13.170      -8.918\n",
       "Deaths Daily per 100k          0.4788      0.083      5.749      0.000       0.315       0.642\n",
       "==============================================================================\n",
       "Omnibus:                      371.575   Durbin-Watson:                   2.029\n",
       "Prob(Omnibus):                  0.000   Jarque-Bera (JB):            27019.963\n",
       "Skew:                           0.987   Prob(JB):                         0.00\n",
       "Kurtosis:                      29.770   Cond. No.                     9.01e+04\n",
       "==============================================================================\n",
       "\n",
       "Notes:\n",
       "[1] R² is computed without centering (uncentered) since the model does not contain a constant.\n",
       "[2] Standard Errors assume that the covariance matrix of the errors is correctly specified.\n",
       "[3] The condition number is large, 9.01e+04. This might indicate that there are\n",
       "strong multicollinearity or other numerical problems.\n",
       "\"\"\""
      ]
     },
     "execution_count": 633,
     "metadata": {},
     "output_type": "execute_result"
    }
   ],
   "source": [
    "model = sm.OLS(y, X)\n",
    "results = model.fit()\n",
    "results.summary()"
   ]
  },
  {
   "cell_type": "code",
   "execution_count": null,
   "metadata": {},
   "outputs": [],
   "source": []
  },
  {
   "cell_type": "code",
   "execution_count": null,
   "metadata": {},
   "outputs": [],
   "source": []
  },
  {
   "cell_type": "code",
   "execution_count": 634,
   "metadata": {},
   "outputs": [
    {
     "data": {
      "text/plain": [
       "<seaborn.axisgrid.JointGrid at 0x7fedb1919550>"
      ]
     },
     "execution_count": 634,
     "metadata": {},
     "output_type": "execute_result"
    },
    {
     "data": {
      "image/png": "[encoded data removed]",
      "text/plain": [
       "<Figure size 432x432 with 3 Axes>"
      ]
     },
     "metadata": {
      "needs_background": "light"
     },
     "output_type": "display_data"
    }
   ],
   "source": [
    "sns.jointplot(y=test_y, x=predictions)"
   ]
  },
  {
   "cell_type": "code",
   "execution_count": 635,
   "metadata": {},
   "outputs": [],
   "source": [
    "X, test_X, y, test_y = train_test_split(X, y, test_size = .2)\n",
    "\n",
    "train_X, val_X, train_y, val_y = train_test_split(X, y, test_size = .2)"
   ]
  },
  {
   "cell_type": "code",
   "execution_count": 636,
   "metadata": {},
   "outputs": [],
   "source": [
    "scaler = StandardScaler()\n",
    "\n",
    "train_Xscaled = scaler.fit_transform(train_X.values)\n",
    "val_Xscaled = scaler.fit_transform(val_X.values)\n",
    "test_Xscaled = scaler.fit_transform(test_X.values)"
   ]
  },
  {
   "cell_type": "code",
   "execution_count": 637,
   "metadata": {},
   "outputs": [],
   "source": [
    "ridge = Ridge(alpha=1)\n",
    "\n",
    "poly = PolynomialFeatures(degree=2)\n",
    "\n",
    "train_Xpoly = poly.fit_transform(train_X.values)\n",
    "val_Xpoly = poly.fit_transform(val_X.values)\n",
    "test_Xpoly = poly.fit_transform(test_X.values)"
   ]
  },
  {
   "cell_type": "code",
   "execution_count": 638,
   "metadata": {},
   "outputs": [
    {
     "data": {
      "text/plain": [
       "LinearRegression()"
      ]
     },
     "execution_count": 638,
     "metadata": {},
     "output_type": "execute_result"
    }
   ],
   "source": [
    "lr = LinearRegression()\n",
    "lr_poly = LinearRegression()\n",
    "\n",
    "lr.fit(train_X, train_y)\n",
    "ridge.fit(train_Xscaled, train_y)\n",
    "lr_poly.fit(train_Xpoly, train_y)"
   ]
  },
  {
   "cell_type": "code",
   "execution_count": 639,
   "metadata": {},
   "outputs": [
    {
     "name": "stdout",
     "output_type": "stream",
     "text": [
      "Lin. Reg: 0.483\n",
      "Ridge: 0.678\n",
      "Poly: -4.058\n"
     ]
    }
   ],
   "source": [
    "print(f'Lin. Reg: {lr.score(val_X, val_y):.3f}')\n",
    "print(f'Ridge: {ridge.score(val_Xscaled, val_y):.3f}')\n",
    "print(f'Poly: {lr_poly.score(val_Xpoly, val_y):.3f}')"
   ]
  },
  {
   "cell_type": "code",
   "execution_count": 640,
   "metadata": {},
   "outputs": [
    {
     "name": "stderr",
     "output_type": "stream",
     "text": [
      "<ipython-input-640-5674c2dfb7df>:2: SettingWithCopyWarning: \n",
      "A value is trying to be set on a copy of a slice from a DataFrame.\n",
      "Try using .loc[row_indexer,col_indexer] = value instead\n",
      "\n",
      "See the caveats in the documentation: https://pandas.pydata.org/pandas-docs/stable/user_guide/indexing.html#returning-a-view-versus-a-copy\n",
      "  X['County'] = COUNTY_NAMES\n"
     ]
    }
   ],
   "source": [
    "predictions = lr.predict(X)\n",
    "X['County'] = COUNTY_NAMES"
   ]
  },
  {
   "cell_type": "code",
   "execution_count": 641,
   "metadata": {},
   "outputs": [
    {
     "name": "stderr",
     "output_type": "stream",
     "text": [
      "<ipython-input-641-a0d9223ce2c3>:1: SettingWithCopyWarning: \n",
      "A value is trying to be set on a copy of a slice from a DataFrame.\n",
      "Try using .loc[row_indexer,col_indexer] = value instead\n",
      "\n",
      "See the caveats in the documentation: https://pandas.pydata.org/pandas-docs/stable/user_guide/indexing.html#returning-a-view-versus-a-copy\n",
      "  X['Predicted Values'] = predictions\n"
     ]
    }
   ],
   "source": [
    "X['Predicted Values'] = predictions"
   ]
  },
  {
   "cell_type": "code",
   "execution_count": 642,
   "metadata": {},
   "outputs": [],
   "source": [
    "R = X[['County','Predicted Values']]"
   ]
  },
  {
   "cell_type": "code",
   "execution_count": 643,
   "metadata": {},
   "outputs": [
    {
     "data": {
      "text/html": [
       "<div>\n",
       "<style scoped>\n",
       "    .dataframe tbody tr th:only-of-type {\n",
       "        vertical-align: middle;\n",
       "    }\n",
       "\n",
       "    .dataframe tbody tr th {\n",
       "        vertical-align: top;\n",
       "    }\n",
       "\n",
       "    .dataframe thead th {\n",
       "        text-align: right;\n",
       "    }\n",
       "</style>\n",
       "<table border=\"1\" class=\"dataframe\">\n",
       "  <thead>\n",
       "    <tr style=\"text-align: right;\">\n",
       "      <th></th>\n",
       "      <th>Predicted Values</th>\n",
       "    </tr>\n",
       "  </thead>\n",
       "  <tbody>\n",
       "    <tr>\n",
       "      <th>count</th>\n",
       "      <td>720.000000</td>\n",
       "    </tr>\n",
       "    <tr>\n",
       "      <th>mean</th>\n",
       "      <td>21.041359</td>\n",
       "    </tr>\n",
       "    <tr>\n",
       "      <th>std</th>\n",
       "      <td>19.437018</td>\n",
       "    </tr>\n",
       "    <tr>\n",
       "      <th>min</th>\n",
       "      <td>-50.075760</td>\n",
       "    </tr>\n",
       "    <tr>\n",
       "      <th>25%</th>\n",
       "      <td>11.164961</td>\n",
       "    </tr>\n",
       "    <tr>\n",
       "      <th>50%</th>\n",
       "      <td>19.406248</td>\n",
       "    </tr>\n",
       "    <tr>\n",
       "      <th>75%</th>\n",
       "      <td>29.136115</td>\n",
       "    </tr>\n",
       "    <tr>\n",
       "      <th>max</th>\n",
       "      <td>267.732795</td>\n",
       "    </tr>\n",
       "  </tbody>\n",
       "</table>\n",
       "</div>"
      ],
      "text/plain": [
       "       Predicted Values\n",
       "count        720.000000\n",
       "mean          21.041359\n",
       "std           19.437018\n",
       "min          -50.075760\n",
       "25%           11.164961\n",
       "50%           19.406248\n",
       "75%           29.136115\n",
       "max          267.732795"
      ]
     },
     "execution_count": 643,
     "metadata": {},
     "output_type": "execute_result"
    }
   ],
   "source": [
    "X[['County','Predicted Values']].describe()"
   ]
  },
  {
   "cell_type": "code",
   "execution_count": null,
   "metadata": {},
   "outputs": [],
   "source": []
  }
 ],
 "metadata": {
  "kernelspec": {
   "display_name": "Python 3",
   "language": "python",
   "name": "python3"
  },
  "language_info": {
   "codemirror_mode": {
    "name": "ipython",
    "version": 3
   },
   "file_extension": ".py",
   "mimetype": "text/x-python",
   "name": "python",
   "nbconvert_exporter": "python",
   "pygments_lexer": "ipython3",
   "version": "3.8.5"
  }
 },
 "nbformat": 4,
 "nbformat_minor": 4
}
